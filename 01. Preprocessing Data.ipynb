{
 "cells": [
  {
   "cell_type": "code",
   "execution_count": 1,
   "metadata": {},
   "outputs": [],
   "source": [
    "import pandas as pd"
   ]
  },
  {
   "cell_type": "code",
   "execution_count": 2,
   "metadata": {},
   "outputs": [],
   "source": [
    "# Membaca file Excel dengan banyak sheet\n",
    "file_path = 'data/dataset_primer_2.xlsx' \n",
    "df_sheets = pd.read_excel(file_path, sheet_name=None)\n"
   ]
  },
  {
   "cell_type": "code",
   "execution_count": 3,
   "metadata": {},
   "outputs": [],
   "source": [
    "# Fungsi untuk menangani outlier menggunakan IQR\n",
    "def handle_outliers(df, columns):\n",
    "    for col in columns:\n",
    "        # Menghitung Q1, Q3, dan IQR untuk kolom\n",
    "        Q1 = df[col].quantile(0.25)\n",
    "        Q3 = df[col].quantile(0.75)\n",
    "        IQR = Q3 - Q1\n",
    "\n",
    "        # Menentukan batas bawah dan atas untuk outlier\n",
    "        lower_bound = Q1 - 1.5 * IQR\n",
    "        upper_bound = Q3 + 1.5 * IQR\n",
    "\n",
    "        # Ganti nilai outlier dengan batas bawah atau atas yang sesuai\n",
    "        df.loc[df[col] < lower_bound, col] = Q1\n",
    "        df.loc[df[col] > upper_bound, col] = Q3\n",
    "\n",
    "    return df"
   ]
  },
  {
   "cell_type": "code",
   "execution_count": 4,
   "metadata": {},
   "outputs": [
    {
     "name": "stdout",
     "output_type": "stream",
     "text": [
      "Memproses sheet: day 05\n",
      "Memproses sheet: day 06\n",
      "Memproses sheet: day 07\n",
      "Memproses sheet: day 08\n",
      "Memproses sheet: day 09\n",
      "Memproses sheet: day 10\n",
      "Memproses sheet: day 12\n",
      "Memproses sheet: day 13\n",
      "Memproses sheet: day 14\n",
      "Memproses sheet: day 15\n",
      "Memproses sheet: day 16\n",
      "Memproses sheet: day 19\n"
     ]
    }
   ],
   "source": [
    "for sheet_name, df in df_sheets.items():\n",
    "    print(f\"Memproses sheet: {sheet_name}\")\n",
    "\n",
    "    # Mengidentifikasi kolom yang memiliki prefiks 'berat'\n",
    "    berat_columns = [col for col in df.columns if col.startswith('berat_')]\n",
    "\n",
    "    # Mengisi data kosong pada kolom yang memiliki prefiks 'berat_' menggunakan interpolasi linear\n",
    "    for col in berat_columns:\n",
    "        # Mengisi nilai kosong menggunakan interpolasi linear terlebih dahulu\n",
    "        df[col] = df[col].interpolate(method='linear', axis=0)\n",
    "\n",
    "        # Jika masih ada nilai kosong di awal data (baris pertama), gunakan forward fill untuk mengisinya\n",
    "        if df[col].isnull().iloc[0]:  # Cek jika baris pertama kosong\n",
    "            df.loc[0, col] = df.loc[1, col]  # Mengisi dengan nilai baris kedua (forward fill manual)\n",
    "\n",
    "    # Menangani outlier pada kolom 'berat_*'\n",
    "    df = handle_outliers(df, berat_columns)\n",
    "\n",
    "    # Menyimpan kembali sheet yang telah diproses\n",
    "    df_sheets[sheet_name] = df"
   ]
  },
  {
   "cell_type": "code",
   "execution_count": 5,
   "metadata": {},
   "outputs": [],
   "source": [
    "# Menyimpan hasil pengolahan ke file Excel baru dengan path absolut\n",
    "output_file_path = 'data/data_processed.xlsx'  # Ganti dengan path yang sesuai\n",
    "with pd.ExcelWriter(output_file_path, engine='openpyxl') as writer:\n",
    "    for sheet_name, df in df_sheets.items():\n",
    "        df.to_excel(writer, sheet_name=sheet_name, index=False)"
   ]
  }
 ],
 "metadata": {
  "kernelspec": {
   "display_name": ".venv",
   "language": "python",
   "name": "python3"
  },
  "language_info": {
   "codemirror_mode": {
    "name": "ipython",
    "version": 3
   },
   "file_extension": ".py",
   "mimetype": "text/x-python",
   "name": "python",
   "nbconvert_exporter": "python",
   "pygments_lexer": "ipython3",
   "version": "3.12.6"
  }
 },
 "nbformat": 4,
 "nbformat_minor": 2
}
