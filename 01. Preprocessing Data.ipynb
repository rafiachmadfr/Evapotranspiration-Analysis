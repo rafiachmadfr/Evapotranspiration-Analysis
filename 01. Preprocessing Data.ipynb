{
 "cells": [
  {
   "cell_type": "code",
   "execution_count": 1,
   "metadata": {},
   "outputs": [],
   "source": [
    "import pandas as pd\n",
    "from sklearn.linear_model import LinearRegression"
   ]
  },
  {
   "cell_type": "code",
   "execution_count": 2,
   "metadata": {},
   "outputs": [],
   "source": [
    "# Membaca file Excel dengan banyak sheet\n",
    "file_path = 'data/dataset_primer_2.xlsx' \n",
    "output_path = 'data/dataset_processed.xlsx'\n"
   ]
  },
  {
   "cell_type": "code",
   "execution_count": 3,
   "metadata": {},
   "outputs": [],
   "source": [
    "def fill_missing_data_with_trend(df):\n",
    "    target_columns = [col for col in df.columns if 'supply' not in col]\n",
    "\n",
    "    for col in target_columns:\n",
    "        # Pisahkan data yang sudah ada dan data yang hilang\n",
    "        known_data = df[df[col].notna()]\n",
    "        missing_data = df[df[col].isna()]\n",
    "\n",
    "        if not known_data.empty and not missing_data.empty:\n",
    "            # Menggunakan waktu sebagai fitur untuk memprediksi penurunan nilai\n",
    "            X_train = known_data[['waktu']]  # Waktu sebagai fitur\n",
    "            y_train = known_data[col]\n",
    "\n",
    "            # Membangun model regresi linier\n",
    "            model = LinearRegression()\n",
    "            model.fit(X_train, y_train)\n",
    "\n",
    "            # Prediksi untuk data yang hilang\n",
    "            X_missing = missing_data[['waktu']]\n",
    "            predicted_values = model.predict(X_missing)\n",
    "\n",
    "            # Menurunkan nilai prediksi seiring waktu (dengan pengaturan skala penurunan)\n",
    "            predicted_values = predicted_values - predicted_values.min()\n",
    "\n",
    "            # Isi nilai yang hilang dengan prediksi yang telah disesuaikan\n",
    "            df.loc[df[col].isna(), col] = predicted_values\n",
    "\n",
    "    return df"
   ]
  },
  {
   "cell_type": "code",
   "execution_count": 4,
   "metadata": {},
   "outputs": [],
   "source": [
    "# Fungsi untuk membaca dan memproses seluruh sheet dalam file Excel\n",
    "def process_excel_file(file_path, output_path):\n",
    "    xls = pd.ExcelFile(file_path)\n",
    "    with pd.ExcelWriter(output_path) as writer:\n",
    "        for sheet_name in xls.sheet_names:\n",
    "            df = pd.read_excel(xls, sheet_name=sheet_name)\n",
    "            df_filled = fill_missing_data_with_trend(df)\n",
    "            df_filled.to_excel(writer, sheet_name=sheet_name, index=False)"
   ]
  },
  {
   "cell_type": "code",
   "execution_count": 5,
   "metadata": {},
   "outputs": [],
   "source": [
    "process_excel_file(file_path, output_path)"
   ]
  }
 ],
 "metadata": {
  "kernelspec": {
   "display_name": ".venv",
   "language": "python",
   "name": "python3"
  },
  "language_info": {
   "codemirror_mode": {
    "name": "ipython",
    "version": 3
   },
   "file_extension": ".py",
   "mimetype": "text/x-python",
   "name": "python",
   "nbconvert_exporter": "python",
   "pygments_lexer": "ipython3",
   "version": "3.12.6"
  }
 },
 "nbformat": 4,
 "nbformat_minor": 2
}
