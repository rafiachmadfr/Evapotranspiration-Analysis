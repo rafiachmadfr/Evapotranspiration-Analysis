{
 "cells": [
  {
   "cell_type": "code",
   "execution_count": 13,
   "metadata": {},
   "outputs": [],
   "source": [
    "import pandas as pd\n",
    "from sklearn.ensemble import RandomForestRegressor"
   ]
  },
  {
   "cell_type": "code",
   "execution_count": 14,
   "metadata": {},
   "outputs": [],
   "source": [
    "# Membaca file Excel dengan banyak sheet\n",
    "file_path = 'data/dataset_primer_2.xlsx' \n",
    "output_path = 'data/dataset_processed.xlsx'\n"
   ]
  },
  {
   "cell_type": "code",
   "execution_count": 15,
   "metadata": {},
   "outputs": [],
   "source": [
    "import pandas as pd\n",
    "\n",
    "# Fungsi untuk mengisi data kosong dengan model prediktif\n",
    "def fill_missing_data_with_model(df):\n",
    "    target_columns = [col for col in df.columns if 'supply' not in col]\n",
    "    \n",
    "    for col in target_columns:\n",
    "        known_data = df[df[col].notna()]\n",
    "        missing_data = df[df[col].isna()]\n",
    "\n",
    "        if not known_data.empty and not missing_data.empty:\n",
    "            # Pisahkan fitur (X) dan target (y)\n",
    "            X_train = known_data.drop(columns=target_columns)\n",
    "            y_train = known_data[col]\n",
    "\n",
    "            model = RandomForestRegressor(n_estimators=100, random_state=42)\n",
    "            model.fit(X_train, y_train)\n",
    "\n",
    "            # Prediksi nilai untuk data yang hilang\n",
    "            X_missing = missing_data.drop(columns=target_columns)\n",
    "            predicted_values = model.predict(X_missing)\n",
    "\n",
    "            df.loc[df[col].isna(), col] = predicted_values\n",
    "\n",
    "    return df\n",
    "\n",
    "\n",
    "\n",
    "\n"
   ]
  },
  {
   "cell_type": "code",
   "execution_count": 16,
   "metadata": {},
   "outputs": [],
   "source": [
    "# Fungsi untuk membaca dan memproses seluruh sheet dalam file Excel\n",
    "def process_excel_file(file_path, output_path):\n",
    "    xls = pd.ExcelFile(file_path)\n",
    "    with pd.ExcelWriter(output_path) as writer:\n",
    "        for sheet_name in xls.sheet_names:\n",
    "            df = pd.read_excel(xls, sheet_name=sheet_name)\n",
    "            df_filled = fill_missing_data_with_model(df)\n",
    "            df_filled.to_excel(writer, sheet_name=sheet_name, index=False)"
   ]
  },
  {
   "cell_type": "code",
   "execution_count": 17,
   "metadata": {},
   "outputs": [],
   "source": [
    "process_excel_file(file_path, output_path)"
   ]
  }
 ],
 "metadata": {
  "kernelspec": {
   "display_name": ".venv",
   "language": "python",
   "name": "python3"
  },
  "language_info": {
   "codemirror_mode": {
    "name": "ipython",
    "version": 3
   },
   "file_extension": ".py",
   "mimetype": "text/x-python",
   "name": "python",
   "nbconvert_exporter": "python",
   "pygments_lexer": "ipython3",
   "version": "3.12.6"
  }
 },
 "nbformat": 4,
 "nbformat_minor": 2
}
